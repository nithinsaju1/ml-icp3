{
  "nbformat": 4,
  "nbformat_minor": 0,
  "metadata": {
    "colab": {
      "provenance": []
    },
    "kernelspec": {
      "name": "python3",
      "display_name": "Python 3"
    },
    "language_info": {
      "name": "python"
    }
  },
  "cells": [
    {
      "cell_type": "code",
      "execution_count": 1,
      "metadata": {
        "colab": {
          "base_uri": "https://localhost:8080/"
        },
        "id": "YYEl5K66txEO",
        "outputId": "e7ec11a9-629c-481e-954a-f8a2edd3ab24"
      },
      "outputs": [
        {
          "output_type": "stream",
          "name": "stdout",
          "text": [
            "Array shape before replacing max: (3, 5)\n",
            "Array after replacing max in each row by 0:\n",
            "[[16  0  5  9  8]\n",
            " [ 7  0 15 17 16]\n",
            " [ 0 12  8  2  2]]\n"
          ]
        }
      ],
      "source": [
        "import numpy as np\n",
        "\n",
        "# Create random vector of size 15 with integers in range 1-20\n",
        "random_vector = np.random.randint(1, 21, size=15)\n",
        "\n",
        "# Reshape the array to 3 by 5\n",
        "reshaped_array = random_vector.reshape(3, 5)\n",
        "\n",
        "# Print array shape\n",
        "print(\"Array shape before replacing max:\", reshaped_array.shape)\n",
        "\n",
        "# Replace the max in each row by 0\n",
        "reshaped_array[np.arange(len(reshaped_array)), np.argmax(reshaped_array, axis=1)] = 0\n",
        "\n",
        "print(\"Array after replacing max in each row by 0:\")\n",
        "print(reshaped_array)\n"
      ]
    },
    {
      "cell_type": "code",
      "source": [
        "import numpy as np\n",
        "\n",
        "# Create a 2-dimensional array of size 4 x 3 with 4-byte integer elements\n",
        "array = np.random.randint(low=-1000, high=1000, size=(4, 3), dtype=np.int32)\n",
        "\n",
        "# Print the shape, type, and data type of the array\n",
        "print(\"Shape of the array:\", array.shape)\n",
        "print(\"Type of the array:\", type(array))\n",
        "print(\"Data type of the array:\", array.dtype)\n",
        "\n",
        "# Define the square array\n",
        "array = np.array([[3, -2], [10, 0]])\n",
        "\n",
        "# Compute eigenvalues and right eigenvectors\n",
        "eigenvalues, eigenvectors = np.linalg.eig(array)\n",
        "\n",
        "# Print the eigenvalues\n",
        "print(\"\\nEigenvalues:\")\n",
        "print(eigenvalues)\n",
        "\n",
        "# Print the right eigenvectors\n",
        "print(\"\\nRight Eigenvectors:\")\n",
        "print(eigenvectors)\n"
      ],
      "metadata": {
        "colab": {
          "base_uri": "https://localhost:8080/"
        },
        "id": "K6cKjVfRuORA",
        "outputId": "aa703783-152d-4f8e-9a05-bff60ecef938"
      },
      "execution_count": 5,
      "outputs": [
        {
          "output_type": "stream",
          "name": "stdout",
          "text": [
            "Shape of the array: (4, 3)\n",
            "Type of the array: <class 'numpy.ndarray'>\n",
            "Data type of the array: int32\n",
            "\n",
            "Eigenvalues:\n",
            "[1.5+4.21307489j 1.5-4.21307489j]\n",
            "\n",
            "Right Eigenvectors:\n",
            "[[0.13693064+0.38459936j 0.13693064-0.38459936j]\n",
            " [0.91287093+0.j         0.91287093-0.j        ]]\n"
          ]
        }
      ]
    },
    {
      "cell_type": "code",
      "source": [
        "import numpy as np\n",
        "\n",
        "# Define the array\n",
        "array = np.array([[0, 1, 2], [3, 4, 5]])\n",
        "\n",
        "# Compute the sum of the diagonal elements\n",
        "diagonal_sum = np.trace(array)\n",
        "\n",
        "# Print the sum of the diagonal elements\n",
        "print(\"Sum of the diagonal elements:\", diagonal_sum)\n"
      ],
      "metadata": {
        "colab": {
          "base_uri": "https://localhost:8080/"
        },
        "id": "hVWH1IICuQnD",
        "outputId": "6d56880c-59c3-46d1-e491-32898fc610da"
      },
      "execution_count": 3,
      "outputs": [
        {
          "output_type": "stream",
          "name": "stdout",
          "text": [
            "Sum of the diagonal elements: 4\n"
          ]
        }
      ]
    },
    {
      "cell_type": "code",
      "source": [
        "import numpy as np\n",
        "\n",
        "# Original array\n",
        "array_3x2 = np.array([[1, 2], [3, 4], [5, 6]])\n",
        "array_2x3 = np.array([[1, 2, 3], [4, 5, 6]])\n",
        "\n",
        "# Reshape to 2x3 and 3x2\n",
        "reshaped_array_2x3 = np.reshape(array_3x2, (2, 3))\n",
        "reshaped_array_3x2 = np.reshape(array_2x3, (3, 2))\n",
        "\n",
        "# Print the reshaped arrays\n",
        "print(\"Original array 3x2:\")\n",
        "print(array_3x2)\n",
        "print(\"Reshaped to 2x3:\")\n",
        "print(reshaped_array_2x3)\n",
        "print(\"Original array 2x3:\")\n",
        "print(array_2x3)\n",
        "print(\"Reshaped to 3x2:\")\n",
        "print(reshaped_array_3x2)\n"
      ],
      "metadata": {
        "colab": {
          "base_uri": "https://localhost:8080/"
        },
        "id": "reN5GkwJupNl",
        "outputId": "d337acdf-e8e6-4c47-ebf2-5dd153ae8c03"
      },
      "execution_count": 4,
      "outputs": [
        {
          "output_type": "stream",
          "name": "stdout",
          "text": [
            "Original array 3x2:\n",
            "[[1 2]\n",
            " [3 4]\n",
            " [5 6]]\n",
            "Reshaped to 2x3:\n",
            "[[1 2 3]\n",
            " [4 5 6]]\n",
            "Original array 2x3:\n",
            "[[1 2 3]\n",
            " [4 5 6]]\n",
            "Reshaped to 3x2:\n",
            "[[1 2]\n",
            " [3 4]\n",
            " [5 6]]\n"
          ]
        }
      ]
    }
  ]
}